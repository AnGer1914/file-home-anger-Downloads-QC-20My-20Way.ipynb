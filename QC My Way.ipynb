{
 "cells": [
  {
   "cell_type": "code",
   "execution_count": 1,
   "metadata": {},
   "outputs": [],
   "source": [
    "%matplotlib inline"
   ]
  },
  {
   "cell_type": "markdown",
   "metadata": {},
   "source": [
    "# <p style=\"text-align: center;\">Growing up a brain</p> \n",
    "\n",
    "\n",
    "\n",
    "\n"
   ]
  },
  {
   "cell_type": "markdown",
   "metadata": {},
   "source": [
    "\n",
    "\n",
    "\n",
    "# *Abstract:*\n",
    "\n",
    "### *This is a project which I have started in late October 2018. Nowadays it represents the fundamentals of building up a QC seen through my interpretation of physics.* \n",
    "###  *I am using a simple and elementary math in the main document \"Black strings for time travelling\" and my goal is to build up a ML and DL software which I hope I could do by the end of the AI course (and after that).*\n",
    "###  *In paragraph one, I am describing the \"*m3x*\" function.*\n",
    "\n",
    "### *In paragraph two there is an algorythm which gives the coordinates of a single particle's route and all of the \"action points\" where thermodynamics and Newtonian laws help us see the different red shifts. All this happens in three dimensional space-time. This function will be a main function in finding the fourth dimensional coordinates.*\n",
    "\n",
    "### *Rest of the paragraphs describes step by step the function which will be needed for building the whole system.* "
   ]
  },
  {
   "cell_type": "markdown",
   "metadata": {},
   "source": [
    "## 1. A *cat* is playing of a ball\n",
    "       \n",
    "   1. The tail of the cat is **freezing** out.\n",
    "    \n",
    "      1. Despite that the tail almost touches her *ear*, the *ear* is still <p style=\"color: #d9534f\">*hot*.</p>\n",
    "       \n",
    "            \n",
    "   2. The cat's belly is in Africa\n",
    "   \n",
    "      1. Maybe this is why her *ear* is still <p style=\"color: #d9534f\">*hot*.</p>\n",
    "      \n",
    "                \n",
    "## 1.1. The **ball** is still ~~not~~ bold.\n",
    "\n",
    "| aA | Aa | -B |\n",
    "|-------|-------|-------|\n",
    "| Belly   | <p style=\"color: #d9534f\">Throat</p>   | *Ear*   |\n",
    "| *Butt*   | Belly   | <p style=\"color: #d9534f\">Throat</p>   |\n",
    "| **Tail**   | *Butt*   | Belly   |\n",
    "\n",
    "            \n",
    "    \n",
    "##  [Looks like the dog is not here](https://i.pinimg.com/originals/b3/0d/1f/b30d1f12cebf58f2311359687281241d.jpg) \n"
   ]
  },
  {
   "cell_type": "markdown",
   "metadata": {},
   "source": [
    "## 2. Finding Zeroes \n",
    "\n",
    "### Description\n",
    "\n",
    "   We will try to find zeroes placed in space according to a model and given coordinates of a single point.\n",
    "   \n",
    "   \n",
    "####  Point O\n",
    "\n",
    "    x = -1.5\n",
    "    y = 0.86"
   ]
  },
  {
   "cell_type": "markdown",
   "metadata": {},
   "source": [
    "def zeroes(Ox, Oy, pO2x, pO2y, z0):"
   ]
  },
  {
   "cell_type": "code",
   "execution_count": null,
   "metadata": {},
   "outputs": [
    {
     "name": "stdout",
     "output_type": "stream",
     "text": [
      "---------------------------\n",
      "p.O has coords: -1.5x; 0.86y\n",
      "p.O's zero is at: 0.00x; 0.00y\n",
      "---------------------------\n",
      "p.O has coords: 0.23x; 3.84y\n",
      "p.O's zero is at: 1.73x; 4.70y\n",
      "---------------------------\n",
      "p.O has coords: -1.50x; 6.82y\n",
      "p.O's zero is at: -1.50x; 7.68y\n",
      "---------------------------\n",
      "p.O has coords: -4.95x; 6.82y\n",
      "p.O's zero is at: -6.45x; 6.82y\n",
      "---------------------------\n",
      "p.O has coords: -6.67x; 3.84y\n",
      "p.O's zero is at: -8.17x; 2.98y\n",
      "---------------------------\n",
      "p.O has coords: -4.95x; 0.86y\n",
      "p.O's zero is at: -4.95x; 0.00y\n"
     ]
    }
   ],
   "source": [
    "Ox = -1.5\n",
    "Oy = 0.86\n",
    "\n",
    "pO2x = 0\n",
    "pO2y = 0\n",
    "zerox = 0\n",
    "zeroy = 0\n",
    "\n",
    "z0 = [-1.5, 0.86]\n",
    "z1 = []\n",
    "z2 = []\n",
    "z3 = []\n",
    "z4 = []\n",
    "z5 = []\n",
    "\n",
    "while True:\n",
    "    if (pO2x - 1.5) in z0 and (pO2y + 0.86) in z0:\n",
    "        pO2x = float(z0[0]) - Ox + 0.226\n",
    "        pO2y = float(z0[1]) + 2.982\n",
    "        z1.append(pO2x)\n",
    "        z1.append(pO2y)\n",
    "        zerox = Ox + 1.5\n",
    "        zeroy = Oy - 0.86\n",
    "        print(f\"---------------------------\\np.O has coords: {Ox}x; {Oy}y\\n\"\n",
    "              f\"p.O's zero is at: {zerox:.2f}x; {zeroy:.2f}y\")\n",
    "\n",
    "    elif pO2x in z1 and pO2y in z1:\n",
    "        zerox = pO2x + 1.5\n",
    "        zeroy = pO2y + 0.86\n",
    "        pO2x = float(z1[0]) + Ox - 0.226\n",
    "        pO2y = float(z1[1]) + 2.982\n",
    "        z2.append(pO2x)\n",
    "        z2.append(pO2y)\n",
    "        print(f\"---------------------------\\np.O has coords: {z1[0]:.2f}x; {z1[1]:.2f}y\\n\"\n",
    "              f\"p.O's zero is at: {zerox:.2f}x; {zeroy:.2f}y\")\n",
    "\n",
    "    elif pO2x in z2 and pO2y in z2:\n",
    "        zerox = pO2x\n",
    "        zeroy = pO2y + 0.86\n",
    "        pO2x = float(z2[0]) - 3.446\n",
    "        pO2y = float(z2[1])\n",
    "        z3.append(pO2x)\n",
    "        z3.append(pO2y)\n",
    "        print(f\"---------------------------\\np.O has coords: {z2[0]:.2f}x; {z2[1]:.2f}y\\n\"\n",
    "              f\"p.O's zero is at: {zerox:.2f}x; {zeroy:.2f}y\")\n",
    "\n",
    "    elif pO2x in z3 and pO2y in z3:\n",
    "        zerox = pO2x - 1.5\n",
    "        zeroy = pO2y\n",
    "        pO2x = float(z3[0]) - 1.723\n",
    "        pO2y = round(float(z3[1]) - 2.982, 3)\n",
    "        z4.append(pO2x)\n",
    "        z4.append(pO2y)\n",
    "        print(f\"---------------------------\\np.O has coords: {z3[0]:.2f}x; {z3[1]:.2f}y\\n\"\n",
    "              f\"p.O's zero is at: {zerox:.2f}x; {zeroy:.2f}y\")\n",
    "\n",
    "    elif pO2x in z4 and pO2y in z4:\n",
    "        zerox = pO2x - 1.5\n",
    "        zeroy = pO2y - 0.86\n",
    "        pO2x = float(z4[0]) + 1.723\n",
    "        pO2y = round(float(z4[1]) - 2.982, 3)\n",
    "        z5.append(pO2x)\n",
    "        z5.append(pO2y)\n",
    "        print(f\"---------------------------\\np.O has coords: {z4[0]:.2f}x; {z4[1]:.2f}y\\n\"\n",
    "              f\"p.O's zero is at: {zerox:.2f}x; {zeroy:.2f}y\")\n",
    "\n",
    "    elif pO2x in z5 and pO2y in z5:\n",
    "        zerox = pO2x\n",
    "        zeroy = pO2y - 0.86\n",
    "        print(f\"---------------------------\\np.O has coords: {z5[0]:.2f}x; {z5[1]:.2f}y\\n\"\n",
    "              f\"p.O's zero is at: {zerox:.2f}x; {zeroy:.2f}y\")\n",
    "        pO2x = round(float(z5[0]) + 3.446, 3)\n",
    "        pO2y = float(z5[1])\n",
    "        z5.append(pO2x)\n",
    "        z5.append(pO2y)\n",
    "        if z5[2] in z0 and z5[3] in z0:\n",
    "            pO2x = float(z5[0] + 3.446)\n",
    "            pO2y = float(z5[1])\n",
    "            zerox = pO2x + 1.5\n",
    "            zeroy = pO2y - 0.86\n",
    "            what_now = input(\"Now what? \")\n",
    "            if what_now == \"Beer time\":\n",
    "                pO2x = 0\n",
    "                pO2y = 0\n",
    "                print(f\"---------------------------\")\n",
    "                print(f\"Cheers for the lucky Captain!\")\n",
    "                continue\n",
    "            else:\n",
    "                print(f\"The bottom has gone Craptain xD\")\n",
    "                print(\"THIS - IS - 2D !!!\")\n",
    "                break\n",
    "\n",
    "\n"
   ]
  },
  {
   "cell_type": "markdown",
   "metadata": {},
   "source": [
    "## 3. Curiosity    "
   ]
  },
  {
   "cell_type": "markdown",
   "metadata": {},
   "source": [
    "##   Abstract:"
   ]
  },
  {
   "cell_type": "code",
   "execution_count": null,
   "metadata": {},
   "outputs": [],
   "source": [
    "m3x = []\n",
    "\n",
    "explored = [[][][][]]\n",
    "\n",
    "\n",
    "def explore(z0, z1):\n",
    "    return z1[0], z1[1]\n",
    "    explored.addappend(z1[0], z1[1])"
   ]
  },
  {
   "cell_type": "markdown",
   "metadata": {},
   "source": [
    "## Code:\n",
    "\n",
    "\n",
    "\n",
    "$$ (1)  \\int_A^B = \\left\\|-A\\right\\| f(1.73x) + \\left\\|-A\\right\\| $$\n",
    "\n",
    "$$ \\int_A^B = \\left\\|\\pm A\\right\\| $$\n",
    "\n",
    "$$ (2)  \\int_B^A = \\left\\|\\pm A\\right\\| f(-1.73x) + \\left\\|\\pm A\\right\\|  $$"
   ]
  },
  {
   "cell_type": "markdown",
   "metadata": {},
   "source": [
    "$$ (1)   f(x) = \\left\\|-A\\right\\|(1.73x + 1) $$\n",
    "\n",
    "$$ (2)  f(-x) = \\left\\|-A\\right\\|(1.73x + 1)(-1.73x) + \\left\\|-A\\right\\|(1.73x + 1) $$\n",
    "\n",
    "$$  f(-x)\\left\\|\\pm A\\right\\| = - \\left\\|\\pm A\\right\\|((1.73x)^2 - 1) $$\n",
    "\n",
    "$$ (3)  \\int_A^B = \\lim_{f(-\\left\\|A\\right\\|) \\to f(+\\left\\|A\\right\\|)}((1.73x)^2 - 1) $$"
   ]
  },
  {
   "cell_type": "code",
   "execution_count": null,
   "metadata": {},
   "outputs": [],
   "source": [
    "memory = [[][][]]\n",
    "\n",
    "def memory(explored[0[0]], explored[0[1]]:\n",
    "           Ax = explored[0[0]]\n",
    "           Ay = explored[0[1]]\n",
    "           memory.addappend(A[Ax[0], Ay[1]])"
   ]
  },
  {
   "cell_type": "markdown",
   "metadata": {},
   "source": [
    "## 4. Getting smarter"
   ]
  },
  {
   "cell_type": "markdown",
   "metadata": {},
   "source": [
    "## Code:\n",
    "\n",
    "\n",
    "$$ (3) \\int_B^C = \\left\\|-B\\right\\| f(1.73x) + \\left\\|-B\\right\\| $$\n",
    "\n",
    "$$ \\int_B^A = \\left\\|\\pm B\\right\\| $$\n",
    "\n",
    "$$ (1)  f(x)\\left\\|\\pm B\\right\\| = \\left\\|\\pm A\\right\\|(1.73x + 1) $$\n",
    "\n",
    "$$ (2)  f(-x)\\left\\|\\pm B\\right\\| = \\left\\|\\pm B\\right\\|(-1.73x) + \\left\\|\\pm B\\right\\| $$\n",
    "\n",
    "$$ f(-x)\\left\\|\\pm B\\right\\| = -\\left\\|\\pm B\\right\\|(1.73x - 1) $$\n",
    "\n",
    "$$ f(-x)\\left\\|\\pm B\\right\\| = \\left\\|\\pm A\\right\\|(1.73x + 1)(-1.73x) + \\left\\|\\pm A\\right\\|(1.73x + 1) $$\n",
    "\n",
    "$$ f(-x)\\left\\|\\pm B\\right\\| = \\left\\|\\pm A\\right\\|(1.73x + 1)(1 - 1.73x) $$\n",
    "\n",
    "$$ f(-x)\\left\\|\\pm B\\right\\| = - \\left\\|\\pm A\\right\\|((1.73x)^2 - 1) $$\n",
    "\n",
    "$$ \\ or $$\n",
    "\n",
    "$$ \\int_B^C = \\lim_{f(-\\left\\|\\int_B^C\\right\\|) \\to f(+\\left\\|\\int_B^C\\right\\|)}((1.73x)^2 - 1) $$\n"
   ]
  },
  {
   "cell_type": "markdown",
   "metadata": {},
   "source": [
    "## Abstract:"
   ]
  },
  {
   "cell_type": "code",
   "execution_count": 3,
   "metadata": {},
   "outputs": [
    {
     "ename": "SyntaxError",
     "evalue": "invalid syntax (<ipython-input-3-e24e5e41a6e7>, line 3)",
     "output_type": "error",
     "traceback": [
      "\u001b[1;36m  File \u001b[1;32m\"<ipython-input-3-e24e5e41a6e7>\"\u001b[1;36m, line \u001b[1;32m3\u001b[0m\n\u001b[1;33m    explored = [[][][]]\u001b[0m\n\u001b[1;37m                   ^\u001b[0m\n\u001b[1;31mSyntaxError\u001b[0m\u001b[1;31m:\u001b[0m invalid syntax\n"
     ]
    }
   ],
   "source": [
    "m3x = []\n",
    "\n",
    "explored = [[][][]]\n",
    "\n",
    "memory = [[][][]]\n",
    "\n",
    "HDD = []\n",
    "\n",
    "def HDD():\n",
    "    while True:\n",
    "        track = []\n",
    "        for explorer in explored:\n",
    "            memory[[A[0], A[1]][B[0], B[1]][C[0], C[1]]] += explored\n",
    "            RAM += memory[[A[0], A[1]][B[0], B[1]][C[0], C[1]]].reversed \n",
    "\n",
    "            for zero in zeroes:\n",
    "                explored[A[0], B[0], C[0]] += m3x[z0[0]]\n",
    "                explored[A[1], B[1], C[1]] += m3x[z0[1]]\n",
    "        track.addappend(RAM)\n",
    "    HDD.addappend(track)\n",
    "\n",
    "     \n",
    "S = Ox, Oy + HDD[0[0[0]]], HDD[0[0[1]]]\n",
    "S1 = S + HDD[0[1[0]]], HDD[0[1[1]]]\n",
    "S2 = S1 + HDD[0[2[0]]], HDD[0[2[1]]]\n",
    "S3 = S2 + HDD[0[3[0]]], HDD[0[3[1]]]\n",
    "S4 = S3 + HDD[0[4[0]]], HDD[0[4[1]]]\n",
    "S5 = S4 + HDD[0[5[0]]], HDD[0[5[1]]]\n",
    "    \n",
    "    \n",
    "\n",
    "\n"
   ]
  },
  {
   "cell_type": "markdown",
   "metadata": {},
   "source": [
    "# *Code:*\n",
    "\n",
    "## [I can see colours:](https://drive.google.com/file/d/1G-bFtPrFA6j5P6NnsTV8CDxm3mXIl3f1/view?fbclid=IwAR1T2eA7f3YC3VLyv-jqzjuVgoIcjgbAO5KyL0LvxMWUKiqhJtjof1HNCl0)"
   ]
  }
 ],
 "metadata": {
  "kernelspec": {
   "display_name": "Python 3",
   "language": "python",
   "name": "python3"
  },
  "language_info": {
   "codemirror_mode": {
    "name": "ipython",
    "version": 3
   },
   "file_extension": ".py",
   "mimetype": "text/x-python",
   "name": "python",
   "nbconvert_exporter": "python",
   "pygments_lexer": "ipython3",
   "version": "3.8.2"
  }
 },
 "nbformat": 4,
 "nbformat_minor": 4
}
